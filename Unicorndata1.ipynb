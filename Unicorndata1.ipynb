{
  "nbformat": 4,
  "nbformat_minor": 0,
  "metadata": {
    "colab": {
      "provenance": [],
      "authorship_tag": "ABX9TyNZ0g/2xQN1ZZXHJSrNDrx0",
      "include_colab_link": true
    },
    "kernelspec": {
      "name": "python3",
      "display_name": "Python 3"
    },
    "language_info": {
      "name": "python"
    }
  },
  "cells": [
    {
      "cell_type": "markdown",
      "metadata": {
        "id": "view-in-github",
        "colab_type": "text"
      },
      "source": [
        "<a href=\"https://colab.research.google.com/github/karihejames/karihejames/blob/main/Unicorndata1.ipynb\" target=\"_parent\"><img src=\"https://colab.research.google.com/assets/colab-badge.svg\" alt=\"Open In Colab\"/></a>"
      ]
    },
    {
      "cell_type": "code",
      "execution_count": null,
      "metadata": {
        "id": "Pi5DyfjbXF-d"
      },
      "outputs": [],
      "source": [
        "#import the required libralies\n",
        "# for all mathematical computations\n",
        "\n",
        "import nampy as np\n",
        "import pandas as pd\n",
        "import scipy.stats as stats"
      ]
    }
  ]
}